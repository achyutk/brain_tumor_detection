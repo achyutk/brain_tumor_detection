{
  "cells": [
    {
      "cell_type": "code",
      "execution_count": 3,
      "metadata": {
        "id": "Iz9mnnTcemVm"
      },
      "outputs": [],
      "source": [
        "import dataset\n",
        "import model\n",
        "from pathlib import Path"
      ]
    },
    {
      "cell_type": "code",
      "execution_count": 4,
      "metadata": {
        "id": "9yS8x5U_emVo"
      },
      "outputs": [],
      "source": [
        "BASE_DIR = Path.cwd()\n",
        "TRAIN_DATA_DIR = BASE_DIR/ \"resources\" / \"dataset\" / \"train\"\n",
        "VALID_DATA_DIR = BASE_DIR/ \"resources\" / \"dataset\" / \"valid\"\n",
        "\n",
        "num_classes = 3"
      ]
    },
    {
      "cell_type": "markdown",
      "metadata": {
        "id": "QY24_NPf7Gvs"
      },
      "source": [
        "#GET DATASET"
      ]
    },
    {
      "cell_type": "code",
      "execution_count": 5,
      "metadata": {
        "id": "1u19tX_zemVp"
      },
      "outputs": [],
      "source": [
        "train_dataset = dataset.CustomDataset(TRAIN_DATA_DIR)\n",
        "val_dataset = dataset.CustomDataset(VALID_DATA_DIR)\n",
        "\n",
        "train_data_loader = dataset.CustomDataLoader(train_dataset,batch_size=16)\n",
        "val_data_loader = dataset.CustomDataLoader(val_dataset,batch_size=1)"
      ]
    },
    {
      "cell_type": "code",
      "execution_count": 6,
      "metadata": {
        "colab": {
          "base_uri": "https://localhost:8080/"
        },
        "id": "We8EWX8Fofjc",
        "outputId": "443bad68-15f0-4c82-9b0f-9302002cb6c7"
      },
      "outputs": [
        {
          "name": "stdout",
          "output_type": "stream",
          "text": [
            "6851\n",
            "1963\n"
          ]
        }
      ],
      "source": [
        "print(len(train_data_loader.dataset))\n",
        "print(len(val_data_loader.dataset))"
      ]
    },
    {
      "cell_type": "markdown",
      "metadata": {
        "id": "sI-qG1UYemVr"
      },
      "source": [
        "# MODEL"
      ]
    },
    {
      "cell_type": "code",
      "execution_count": 7,
      "metadata": {
        "id": "pZ6r2T5temVr"
      },
      "outputs": [],
      "source": [
        "model = model.FastRCNN(num_classes=3)"
      ]
    },
    {
      "cell_type": "code",
      "execution_count": 8,
      "metadata": {
        "colab": {
          "base_uri": "https://localhost:8080/"
        },
        "id": "1C1z_WxTemVr",
        "outputId": "edb4517c-2fc1-4e42-a9b3-844505ec0071"
      },
      "outputs": [
        {
          "name": "stdout",
          "output_type": "stream",
          "text": [
            "Epoch: [0]  [  0/429]  eta: 0:15:36  lr: 0.000017  loss: 1.5709 (1.5709)  loss_classifier: 1.1068 (1.1068)  loss_box_reg: 0.1151 (0.1151)  loss_objectness: 0.2758 (0.2758)  loss_rpn_box_reg: 0.0733 (0.0733)  time: 2.1833  data: 0.2115  max mem: 10492\n",
            "Epoch: [0]  [ 10/429]  eta: 0:04:34  lr: 0.000133  loss: 1.2569 (1.2416)  loss_classifier: 1.0297 (0.9510)  loss_box_reg: 0.1141 (0.1123)  loss_objectness: 0.0906 (0.1506)  loss_rpn_box_reg: 0.0126 (0.0276)  time: 0.6558  data: 0.0602  max mem: 10648\n",
            "Epoch: [0]  [ 20/429]  eta: 0:03:54  lr: 0.000250  loss: 0.8325 (0.9277)  loss_classifier: 0.5206 (0.6322)  loss_box_reg: 0.1107 (0.1144)  loss_objectness: 0.0803 (0.1540)  loss_rpn_box_reg: 0.0139 (0.0270)  time: 0.4930  data: 0.0356  max mem: 10648\n",
            "Epoch: [0]  [ 30/429]  eta: 0:03:37  lr: 0.000367  loss: 0.4401 (0.7833)  loss_classifier: 0.1752 (0.4790)  loss_box_reg: 0.1091 (0.1152)  loss_objectness: 0.1269 (0.1627)  loss_rpn_box_reg: 0.0180 (0.0264)  time: 0.4854  data: 0.0267  max mem: 10648\n",
            "Epoch: [0]  [ 40/429]  eta: 0:03:26  lr: 0.000483  loss: 0.3899 (0.6904)  loss_classifier: 0.1502 (0.3962)  loss_box_reg: 0.1066 (0.1125)  loss_objectness: 0.1136 (0.1537)  loss_rpn_box_reg: 0.0180 (0.0279)  time: 0.4864  data: 0.0273  max mem: 10648\n",
            "Epoch: [0]  [ 50/429]  eta: 0:03:17  lr: 0.000600  loss: 0.3412 (0.6241)  loss_classifier: 0.1279 (0.3436)  loss_box_reg: 0.1164 (0.1142)  loss_objectness: 0.0813 (0.1404)  loss_rpn_box_reg: 0.0146 (0.0260)  time: 0.4837  data: 0.0267  max mem: 10648\n",
            "Epoch: [0]  [ 60/429]  eta: 0:03:10  lr: 0.000717  loss: 0.3412 (0.5825)  loss_classifier: 0.1180 (0.3058)  loss_box_reg: 0.1078 (0.1125)  loss_objectness: 0.0736 (0.1385)  loss_rpn_box_reg: 0.0146 (0.0257)  time: 0.4829  data: 0.0269  max mem: 10648\n",
            "Epoch: [0]  [ 70/429]  eta: 0:03:03  lr: 0.000834  loss: 0.3235 (0.5443)  loss_classifier: 0.1127 (0.2794)  loss_box_reg: 0.1039 (0.1132)  loss_objectness: 0.0703 (0.1280)  loss_rpn_box_reg: 0.0115 (0.0237)  time: 0.4839  data: 0.0270  max mem: 10648\n",
            "Epoch: [0]  [ 80/429]  eta: 0:02:57  lr: 0.000950  loss: 0.3201 (0.5214)  loss_classifier: 0.1149 (0.2592)  loss_box_reg: 0.1135 (0.1132)  loss_objectness: 0.0583 (0.1245)  loss_rpn_box_reg: 0.0113 (0.0245)  time: 0.4844  data: 0.0268  max mem: 10648\n",
            "Epoch: [0]  [ 90/429]  eta: 0:02:51  lr: 0.001067  loss: 0.3450 (0.5067)  loss_classifier: 0.1133 (0.2429)  loss_box_reg: 0.1083 (0.1128)  loss_objectness: 0.0835 (0.1241)  loss_rpn_box_reg: 0.0182 (0.0269)  time: 0.4840  data: 0.0268  max mem: 10648\n",
            "Epoch: [0]  [100/429]  eta: 0:02:45  lr: 0.001184  loss: 0.3121 (0.4893)  loss_classifier: 0.1088 (0.2299)  loss_box_reg: 0.1058 (0.1122)  loss_objectness: 0.0793 (0.1208)  loss_rpn_box_reg: 0.0129 (0.0264)  time: 0.4834  data: 0.0262  max mem: 10648\n",
            "Epoch: [0]  [110/429]  eta: 0:02:39  lr: 0.001300  loss: 0.3121 (0.4779)  loss_classifier: 0.1153 (0.2200)  loss_box_reg: 0.1172 (0.1132)  loss_objectness: 0.0692 (0.1185)  loss_rpn_box_reg: 0.0129 (0.0263)  time: 0.4828  data: 0.0261  max mem: 10648\n",
            "Epoch: [0]  [120/429]  eta: 0:02:34  lr: 0.001417  loss: 0.3306 (0.4676)  loss_classifier: 0.1182 (0.2115)  loss_box_reg: 0.1235 (0.1138)  loss_objectness: 0.0570 (0.1159)  loss_rpn_box_reg: 0.0137 (0.0263)  time: 0.4831  data: 0.0259  max mem: 10648\n",
            "Epoch: [0]  [130/429]  eta: 0:02:29  lr: 0.001534  loss: 0.2998 (0.4572)  loss_classifier: 0.1168 (0.2043)  loss_box_reg: 0.1195 (0.1144)  loss_objectness: 0.0556 (0.1127)  loss_rpn_box_reg: 0.0114 (0.0257)  time: 0.4840  data: 0.0269  max mem: 10648\n",
            "Epoch: [0]  [140/429]  eta: 0:02:23  lr: 0.001651  loss: 0.2946 (0.4463)  loss_classifier: 0.1164 (0.1979)  loss_box_reg: 0.1182 (0.1147)  loss_objectness: 0.0523 (0.1088)  loss_rpn_box_reg: 0.0113 (0.0249)  time: 0.4837  data: 0.0272  max mem: 10648\n",
            "Epoch: [0]  [150/429]  eta: 0:02:18  lr: 0.001767  loss: 0.2946 (0.4373)  loss_classifier: 0.1122 (0.1917)  loss_box_reg: 0.1151 (0.1146)  loss_objectness: 0.0549 (0.1063)  loss_rpn_box_reg: 0.0127 (0.0247)  time: 0.4835  data: 0.0263  max mem: 10648\n",
            "Epoch: [0]  [160/429]  eta: 0:02:13  lr: 0.001884  loss: 0.2920 (0.4299)  loss_classifier: 0.1024 (0.1863)  loss_box_reg: 0.1120 (0.1145)  loss_objectness: 0.0594 (0.1040)  loss_rpn_box_reg: 0.0143 (0.0250)  time: 0.4844  data: 0.0267  max mem: 10648\n",
            "Epoch: [0]  [170/429]  eta: 0:02:08  lr: 0.002001  loss: 0.2998 (0.4233)  loss_classifier: 0.1063 (0.1817)  loss_box_reg: 0.1175 (0.1150)  loss_objectness: 0.0540 (0.1019)  loss_rpn_box_reg: 0.0127 (0.0246)  time: 0.4832  data: 0.0268  max mem: 10648\n",
            "Epoch: [0]  [180/429]  eta: 0:02:03  lr: 0.002117  loss: 0.3050 (0.4179)  loss_classifier: 0.1048 (0.1774)  loss_box_reg: 0.1175 (0.1152)  loss_objectness: 0.0482 (0.1001)  loss_rpn_box_reg: 0.0127 (0.0251)  time: 0.4840  data: 0.0267  max mem: 10648\n",
            "Epoch: [0]  [190/429]  eta: 0:01:58  lr: 0.002234  loss: 0.2862 (0.4102)  loss_classifier: 0.0974 (0.1731)  loss_box_reg: 0.1146 (0.1149)  loss_objectness: 0.0594 (0.0977)  loss_rpn_box_reg: 0.0118 (0.0246)  time: 0.4849  data: 0.0276  max mem: 10648\n",
            "Epoch: [0]  [200/429]  eta: 0:01:53  lr: 0.002351  loss: 0.2819 (0.4058)  loss_classifier: 0.0972 (0.1696)  loss_box_reg: 0.1060 (0.1150)  loss_objectness: 0.0519 (0.0966)  loss_rpn_box_reg: 0.0108 (0.0246)  time: 0.4855  data: 0.0289  max mem: 10648\n",
            "Epoch: [0]  [210/429]  eta: 0:01:47  lr: 0.002467  loss: 0.2720 (0.3998)  loss_classifier: 0.0931 (0.1659)  loss_box_reg: 0.1048 (0.1147)  loss_objectness: 0.0458 (0.0950)  loss_rpn_box_reg: 0.0104 (0.0243)  time: 0.4851  data: 0.0281  max mem: 10648\n",
            "Epoch: [0]  [220/429]  eta: 0:01:42  lr: 0.002584  loss: 0.2720 (0.3956)  loss_classifier: 0.0904 (0.1628)  loss_box_reg: 0.1027 (0.1145)  loss_objectness: 0.0482 (0.0939)  loss_rpn_box_reg: 0.0110 (0.0243)  time: 0.4829  data: 0.0264  max mem: 10648\n",
            "Epoch: [0]  [230/429]  eta: 0:01:37  lr: 0.002701  loss: 0.2783 (0.3909)  loss_classifier: 0.1001 (0.1604)  loss_box_reg: 0.1159 (0.1147)  loss_objectness: 0.0425 (0.0920)  loss_rpn_box_reg: 0.0100 (0.0238)  time: 0.4853  data: 0.0276  max mem: 10648\n",
            "Epoch: [0]  [240/429]  eta: 0:01:32  lr: 0.002818  loss: 0.2786 (0.3870)  loss_classifier: 0.1029 (0.1580)  loss_box_reg: 0.1102 (0.1145)  loss_objectness: 0.0439 (0.0909)  loss_rpn_box_reg: 0.0106 (0.0237)  time: 0.4859  data: 0.0278  max mem: 10648\n",
            "Epoch: [0]  [250/429]  eta: 0:01:28  lr: 0.002934  loss: 0.2784 (0.3837)  loss_classifier: 0.0992 (0.1556)  loss_box_reg: 0.1068 (0.1141)  loss_objectness: 0.0565 (0.0903)  loss_rpn_box_reg: 0.0125 (0.0237)  time: 0.4840  data: 0.0271  max mem: 10648\n",
            "Epoch: [0]  [260/429]  eta: 0:01:23  lr: 0.003051  loss: 0.2484 (0.3792)  loss_classifier: 0.0915 (0.1532)  loss_box_reg: 0.1024 (0.1138)  loss_objectness: 0.0441 (0.0889)  loss_rpn_box_reg: 0.0119 (0.0234)  time: 0.4838  data: 0.0273  max mem: 10648\n",
            "Epoch: [0]  [270/429]  eta: 0:01:18  lr: 0.003168  loss: 0.2760 (0.3764)  loss_classifier: 0.0937 (0.1514)  loss_box_reg: 0.1070 (0.1140)  loss_objectness: 0.0500 (0.0879)  loss_rpn_box_reg: 0.0119 (0.0232)  time: 0.4827  data: 0.0265  max mem: 10648\n",
            "Epoch: [0]  [280/429]  eta: 0:01:13  lr: 0.003284  loss: 0.2737 (0.3723)  loss_classifier: 0.0972 (0.1495)  loss_box_reg: 0.1104 (0.1138)  loss_objectness: 0.0407 (0.0863)  loss_rpn_box_reg: 0.0116 (0.0228)  time: 0.4823  data: 0.0262  max mem: 10648\n",
            "Epoch: [0]  [290/429]  eta: 0:01:08  lr: 0.003401  loss: 0.2737 (0.3709)  loss_classifier: 0.0967 (0.1477)  loss_box_reg: 0.1043 (0.1133)  loss_objectness: 0.0553 (0.0861)  loss_rpn_box_reg: 0.0130 (0.0237)  time: 0.4848  data: 0.0276  max mem: 10648\n",
            "Epoch: [0]  [300/429]  eta: 0:01:03  lr: 0.003518  loss: 0.2840 (0.3677)  loss_classifier: 0.0969 (0.1459)  loss_box_reg: 0.1016 (0.1129)  loss_objectness: 0.0555 (0.0851)  loss_rpn_box_reg: 0.0148 (0.0238)  time: 0.4856  data: 0.0284  max mem: 10648\n",
            "Epoch: [0]  [310/429]  eta: 0:00:58  lr: 0.003635  loss: 0.2622 (0.3651)  loss_classifier: 0.0925 (0.1443)  loss_box_reg: 0.1028 (0.1128)  loss_objectness: 0.0418 (0.0845)  loss_rpn_box_reg: 0.0122 (0.0235)  time: 0.4833  data: 0.0272  max mem: 10648\n",
            "Epoch: [0]  [320/429]  eta: 0:00:53  lr: 0.003751  loss: 0.2645 (0.3623)  loss_classifier: 0.0925 (0.1427)  loss_box_reg: 0.1050 (0.1125)  loss_objectness: 0.0425 (0.0837)  loss_rpn_box_reg: 0.0116 (0.0234)  time: 0.4817  data: 0.0264  max mem: 10648\n",
            "Epoch: [0]  [330/429]  eta: 0:00:48  lr: 0.003868  loss: 0.2517 (0.3590)  loss_classifier: 0.0901 (0.1412)  loss_box_reg: 0.1017 (0.1123)  loss_objectness: 0.0360 (0.0825)  loss_rpn_box_reg: 0.0094 (0.0231)  time: 0.4837  data: 0.0271  max mem: 10648\n",
            "Epoch: [0]  [340/429]  eta: 0:00:43  lr: 0.003985  loss: 0.2509 (0.3565)  loss_classifier: 0.0908 (0.1398)  loss_box_reg: 0.1004 (0.1120)  loss_objectness: 0.0367 (0.0817)  loss_rpn_box_reg: 0.0094 (0.0229)  time: 0.4849  data: 0.0279  max mem: 10648\n",
            "Epoch: [0]  [350/429]  eta: 0:00:38  lr: 0.004101  loss: 0.2667 (0.3550)  loss_classifier: 0.0897 (0.1386)  loss_box_reg: 0.1020 (0.1119)  loss_objectness: 0.0454 (0.0814)  loss_rpn_box_reg: 0.0154 (0.0231)  time: 0.4837  data: 0.0274  max mem: 10648\n",
            "Epoch: [0]  [360/429]  eta: 0:00:33  lr: 0.004218  loss: 0.2620 (0.3522)  loss_classifier: 0.0881 (0.1372)  loss_box_reg: 0.1061 (0.1118)  loss_objectness: 0.0442 (0.0804)  loss_rpn_box_reg: 0.0121 (0.0228)  time: 0.4851  data: 0.0270  max mem: 10648\n",
            "Epoch: [0]  [370/429]  eta: 0:00:28  lr: 0.004335  loss: 0.2598 (0.3499)  loss_classifier: 0.0928 (0.1361)  loss_box_reg: 0.1032 (0.1117)  loss_objectness: 0.0370 (0.0795)  loss_rpn_box_reg: 0.0101 (0.0226)  time: 0.4858  data: 0.0266  max mem: 10648\n",
            "Epoch: [0]  [380/429]  eta: 0:00:23  lr: 0.004451  loss: 0.2868 (0.3484)  loss_classifier: 0.0968 (0.1352)  loss_box_reg: 0.1067 (0.1117)  loss_objectness: 0.0401 (0.0789)  loss_rpn_box_reg: 0.0126 (0.0225)  time: 0.4861  data: 0.0276  max mem: 10648\n",
            "Epoch: [0]  [390/429]  eta: 0:00:19  lr: 0.004568  loss: 0.2913 (0.3473)  loss_classifier: 0.1006 (0.1343)  loss_box_reg: 0.1123 (0.1117)  loss_objectness: 0.0492 (0.0784)  loss_rpn_box_reg: 0.0127 (0.0229)  time: 0.4860  data: 0.0286  max mem: 10648\n",
            "Epoch: [0]  [400/429]  eta: 0:00:14  lr: 0.004685  loss: 0.2786 (0.3451)  loss_classifier: 0.0839 (0.1330)  loss_box_reg: 0.1038 (0.1114)  loss_objectness: 0.0494 (0.0779)  loss_rpn_box_reg: 0.0120 (0.0229)  time: 0.4866  data: 0.0280  max mem: 10648\n",
            "Epoch: [0]  [410/429]  eta: 0:00:09  lr: 0.004802  loss: 0.2573 (0.3439)  loss_classifier: 0.0839 (0.1320)  loss_box_reg: 0.0995 (0.1111)  loss_objectness: 0.0501 (0.0781)  loss_rpn_box_reg: 0.0119 (0.0228)  time: 0.4882  data: 0.0285  max mem: 10648\n",
            "Epoch: [0]  [420/429]  eta: 0:00:04  lr: 0.004918  loss: 0.2573 (0.3419)  loss_classifier: 0.0915 (0.1310)  loss_box_reg: 0.0952 (0.1107)  loss_objectness: 0.0556 (0.0775)  loss_rpn_box_reg: 0.0169 (0.0227)  time: 0.4855  data: 0.0276  max mem: 10648\n",
            "Epoch: [0]  [428/429]  eta: 0:00:00  lr: 0.005000  loss: 0.2556 (0.3408)  loss_classifier: 0.0923 (0.1305)  loss_box_reg: 0.1029 (0.1106)  loss_objectness: 0.0456 (0.0770)  loss_rpn_box_reg: 0.0118 (0.0227)  time: 0.4789  data: 0.0255  max mem: 10648\n",
            "Epoch: [0] Total time: 0:03:29 (0.4888 s / it)\n",
            "Train results for epoch 0:\n",
            "creating index...\n",
            "index created!\n",
            "Test:  [  0/429]  eta: 0:03:40  model_time: 0.2325 (0.2325)  evaluator_time: 0.0199 (0.0199)  time: 0.5133  data: 0.2582  max mem: 10648\n",
            "Test:  [100/429]  eta: 0:01:25  model_time: 0.2124 (0.2140)  evaluator_time: 0.0128 (0.0133)  time: 0.2652  data: 0.0368  max mem: 10648\n",
            "Test:  [200/429]  eta: 0:00:59  model_time: 0.2134 (0.2139)  evaluator_time: 0.0137 (0.0135)  time: 0.2559  data: 0.0252  max mem: 10648\n",
            "Test:  [300/429]  eta: 0:00:33  model_time: 0.2137 (0.2138)  evaluator_time: 0.0133 (0.0136)  time: 0.2573  data: 0.0271  max mem: 10648\n",
            "Test:  [400/429]  eta: 0:00:07  model_time: 0.2149 (0.2140)  evaluator_time: 0.0129 (0.0135)  time: 0.2683  data: 0.0372  max mem: 10648\n",
            "Test:  [428/429]  eta: 0:00:00  model_time: 0.2139 (0.2136)  evaluator_time: 0.0131 (0.0135)  time: 0.2449  data: 0.0243  max mem: 10648\n",
            "Test: Total time: 0:01:50 (0.2574 s / it)\n",
            "Averaged stats: model_time: 0.2139 (0.2136)  evaluator_time: 0.0131 (0.0135)\n",
            "Accumulating evaluation results...\n",
            "DONE (t=1.68s).\n",
            "IoU metric: bbox\n",
            " Average Precision  (AP) @[ IoU=0.50:0.95 | area=   all | maxDets=100 ] = 0.111\n",
            " Average Precision  (AP) @[ IoU=0.50      | area=   all | maxDets=100 ] = 0.270\n",
            " Average Precision  (AP) @[ IoU=0.75      | area=   all | maxDets=100 ] = 0.078\n",
            " Average Precision  (AP) @[ IoU=0.50:0.95 | area= small | maxDets=100 ] = 0.022\n",
            " Average Precision  (AP) @[ IoU=0.50:0.95 | area=medium | maxDets=100 ] = 0.153\n",
            " Average Precision  (AP) @[ IoU=0.50:0.95 | area= large | maxDets=100 ] = 0.066\n",
            " Average Recall     (AR) @[ IoU=0.50:0.95 | area=   all | maxDets=  1 ] = 0.156\n",
            " Average Recall     (AR) @[ IoU=0.50:0.95 | area=   all | maxDets= 10 ] = 0.195\n",
            " Average Recall     (AR) @[ IoU=0.50:0.95 | area=   all | maxDets=100 ] = 0.195\n",
            " Average Recall     (AR) @[ IoU=0.50:0.95 | area= small | maxDets=100 ] = 0.079\n",
            " Average Recall     (AR) @[ IoU=0.50:0.95 | area=medium | maxDets=100 ] = 0.255\n",
            " Average Recall     (AR) @[ IoU=0.50:0.95 | area= large | maxDets=100 ] = 0.185\n",
            "Validation results for epoch 0:\n",
            "creating index...\n",
            "index created!\n",
            "Test:  [   0/1963]  eta: 0:09:49  model_time: 0.1955 (0.1955)  evaluator_time: 0.0041 (0.0041)  time: 0.3003  data: 0.1001  max mem: 10648\n",
            "Test:  [ 100/1963]  eta: 0:00:56  model_time: 0.0228 (0.0249)  evaluator_time: 0.0016 (0.0016)  time: 0.0269  data: 0.0023  max mem: 10648\n",
            "Test:  [ 200/1963]  eta: 0:00:50  model_time: 0.0232 (0.0241)  evaluator_time: 0.0018 (0.0017)  time: 0.0276  data: 0.0023  max mem: 10648\n",
            "Test:  [ 300/1963]  eta: 0:00:47  model_time: 0.0236 (0.0240)  evaluator_time: 0.0018 (0.0017)  time: 0.0287  data: 0.0024  max mem: 10648\n",
            "Test:  [ 400/1963]  eta: 0:00:44  model_time: 0.0229 (0.0239)  evaluator_time: 0.0017 (0.0017)  time: 0.0273  data: 0.0022  max mem: 10648\n",
            "Test:  [ 500/1963]  eta: 0:00:41  model_time: 0.0231 (0.0238)  evaluator_time: 0.0018 (0.0017)  time: 0.0280  data: 0.0024  max mem: 10648\n",
            "Test:  [ 600/1963]  eta: 0:00:38  model_time: 0.0231 (0.0238)  evaluator_time: 0.0018 (0.0017)  time: 0.0276  data: 0.0022  max mem: 10648\n",
            "Test:  [ 700/1963]  eta: 0:00:35  model_time: 0.0234 (0.0238)  evaluator_time: 0.0017 (0.0017)  time: 0.0291  data: 0.0023  max mem: 10648\n",
            "Test:  [ 800/1963]  eta: 0:00:32  model_time: 0.0232 (0.0238)  evaluator_time: 0.0018 (0.0017)  time: 0.0274  data: 0.0023  max mem: 10648\n",
            "Test:  [ 900/1963]  eta: 0:00:29  model_time: 0.0232 (0.0238)  evaluator_time: 0.0016 (0.0017)  time: 0.0275  data: 0.0023  max mem: 10648\n",
            "Test:  [1000/1963]  eta: 0:00:27  model_time: 0.0232 (0.0237)  evaluator_time: 0.0018 (0.0017)  time: 0.0276  data: 0.0022  max mem: 10648\n",
            "Test:  [1100/1963]  eta: 0:00:24  model_time: 0.0238 (0.0238)  evaluator_time: 0.0018 (0.0017)  time: 0.0292  data: 0.0024  max mem: 10648\n",
            "Test:  [1200/1963]  eta: 0:00:21  model_time: 0.0239 (0.0238)  evaluator_time: 0.0019 (0.0017)  time: 0.0285  data: 0.0024  max mem: 10648\n",
            "Test:  [1300/1963]  eta: 0:00:18  model_time: 0.0239 (0.0238)  evaluator_time: 0.0020 (0.0017)  time: 0.0284  data: 0.0024  max mem: 10648\n",
            "Test:  [1400/1963]  eta: 0:00:15  model_time: 0.0240 (0.0239)  evaluator_time: 0.0015 (0.0017)  time: 0.0282  data: 0.0025  max mem: 10648\n",
            "Test:  [1500/1963]  eta: 0:00:13  model_time: 0.0235 (0.0239)  evaluator_time: 0.0019 (0.0017)  time: 0.0289  data: 0.0023  max mem: 10648\n",
            "Test:  [1600/1963]  eta: 0:00:10  model_time: 0.0240 (0.0239)  evaluator_time: 0.0019 (0.0017)  time: 0.0295  data: 0.0034  max mem: 10648\n",
            "Test:  [1700/1963]  eta: 0:00:07  model_time: 0.0240 (0.0240)  evaluator_time: 0.0019 (0.0017)  time: 0.0292  data: 0.0029  max mem: 10648\n",
            "Test:  [1800/1963]  eta: 0:00:04  model_time: 0.0241 (0.0241)  evaluator_time: 0.0019 (0.0017)  time: 0.0288  data: 0.0025  max mem: 10648\n",
            "Test:  [1900/1963]  eta: 0:00:01  model_time: 0.0243 (0.0241)  evaluator_time: 0.0018 (0.0017)  time: 0.0293  data: 0.0025  max mem: 10648\n",
            "Test:  [1962/1963]  eta: 0:00:00  model_time: 0.0243 (0.0241)  evaluator_time: 0.0018 (0.0017)  time: 0.0288  data: 0.0025  max mem: 10648\n",
            "Test: Total time: 0:00:56 (0.0286 s / it)\n",
            "Averaged stats: model_time: 0.0243 (0.0241)  evaluator_time: 0.0018 (0.0017)\n",
            "Accumulating evaluation results...\n",
            "DONE (t=0.53s).\n",
            "IoU metric: bbox\n",
            " Average Precision  (AP) @[ IoU=0.50:0.95 | area=   all | maxDets=100 ] = 0.111\n",
            " Average Precision  (AP) @[ IoU=0.50      | area=   all | maxDets=100 ] = 0.264\n",
            " Average Precision  (AP) @[ IoU=0.75      | area=   all | maxDets=100 ] = 0.079\n",
            " Average Precision  (AP) @[ IoU=0.50:0.95 | area= small | maxDets=100 ] = 0.021\n",
            " Average Precision  (AP) @[ IoU=0.50:0.95 | area=medium | maxDets=100 ] = 0.155\n",
            " Average Precision  (AP) @[ IoU=0.50:0.95 | area= large | maxDets=100 ] = 0.162\n",
            " Average Recall     (AR) @[ IoU=0.50:0.95 | area=   all | maxDets=  1 ] = 0.153\n",
            " Average Recall     (AR) @[ IoU=0.50:0.95 | area=   all | maxDets= 10 ] = 0.190\n",
            " Average Recall     (AR) @[ IoU=0.50:0.95 | area=   all | maxDets=100 ] = 0.190\n",
            " Average Recall     (AR) @[ IoU=0.50:0.95 | area= small | maxDets=100 ] = 0.070\n",
            " Average Recall     (AR) @[ IoU=0.50:0.95 | area=medium | maxDets=100 ] = 0.256\n",
            " Average Recall     (AR) @[ IoU=0.50:0.95 | area= large | maxDets=100 ] = 0.293\n",
            "Epoch: [1]  [  0/429]  eta: 0:05:03  lr: 0.005000  loss: 0.2509 (0.2509)  loss_classifier: 0.0992 (0.0992)  loss_box_reg: 0.0794 (0.0794)  loss_objectness: 0.0600 (0.0600)  loss_rpn_box_reg: 0.0122 (0.0122)  time: 0.7082  data: 0.2283  max mem: 10648\n",
            "Epoch: [1]  [ 10/429]  eta: 0:03:32  lr: 0.005000  loss: 0.2765 (0.2818)  loss_classifier: 0.1077 (0.1039)  loss_box_reg: 0.1024 (0.1008)  loss_objectness: 0.0516 (0.0583)  loss_rpn_box_reg: 0.0122 (0.0188)  time: 0.5081  data: 0.0474  max mem: 10649\n",
            "Epoch: [1]  [ 20/429]  eta: 0:03:22  lr: 0.005000  loss: 0.2727 (0.2773)  loss_classifier: 0.0979 (0.1007)  loss_box_reg: 0.1026 (0.1015)  loss_objectness: 0.0467 (0.0585)  loss_rpn_box_reg: 0.0119 (0.0167)  time: 0.4852  data: 0.0280  max mem: 10649\n",
            "Epoch: [1]  [ 30/429]  eta: 0:03:16  lr: 0.005000  loss: 0.2727 (0.2827)  loss_classifier: 0.0939 (0.0994)  loss_box_reg: 0.1043 (0.1030)  loss_objectness: 0.0467 (0.0592)  loss_rpn_box_reg: 0.0139 (0.0211)  time: 0.4839  data: 0.0268  max mem: 10649\n",
            "Epoch: [1]  [ 40/429]  eta: 0:03:10  lr: 0.005000  loss: 0.2574 (0.2765)  loss_classifier: 0.0950 (0.0977)  loss_box_reg: 0.1016 (0.1026)  loss_objectness: 0.0349 (0.0551)  loss_rpn_box_reg: 0.0121 (0.0211)  time: 0.4851  data: 0.0272  max mem: 10649\n",
            "Epoch: [1]  [ 50/429]  eta: 0:03:05  lr: 0.005000  loss: 0.2432 (0.2695)  loss_classifier: 0.0893 (0.0952)  loss_box_reg: 0.0971 (0.1020)  loss_objectness: 0.0348 (0.0516)  loss_rpn_box_reg: 0.0104 (0.0206)  time: 0.4839  data: 0.0280  max mem: 10649\n",
            "Epoch: [1]  [ 60/429]  eta: 0:03:00  lr: 0.005000  loss: 0.2337 (0.2659)  loss_classifier: 0.0839 (0.0944)  loss_box_reg: 0.0961 (0.1016)  loss_objectness: 0.0310 (0.0499)  loss_rpn_box_reg: 0.0104 (0.0200)  time: 0.4828  data: 0.0280  max mem: 10649\n",
            "Epoch: [1]  [ 70/429]  eta: 0:02:54  lr: 0.005000  loss: 0.2504 (0.2658)  loss_classifier: 0.0862 (0.0941)  loss_box_reg: 0.1001 (0.1027)  loss_objectness: 0.0310 (0.0495)  loss_rpn_box_reg: 0.0134 (0.0195)  time: 0.4827  data: 0.0268  max mem: 10649\n",
            "Epoch: [1]  [ 80/429]  eta: 0:02:49  lr: 0.005000  loss: 0.2605 (0.2673)  loss_classifier: 0.0894 (0.0938)  loss_box_reg: 0.1069 (0.1028)  loss_objectness: 0.0372 (0.0505)  loss_rpn_box_reg: 0.0157 (0.0202)  time: 0.4819  data: 0.0263  max mem: 10649\n",
            "Epoch: [1]  [ 90/429]  eta: 0:02:44  lr: 0.005000  loss: 0.2605 (0.2663)  loss_classifier: 0.0834 (0.0923)  loss_box_reg: 0.0988 (0.1023)  loss_objectness: 0.0471 (0.0513)  loss_rpn_box_reg: 0.0180 (0.0204)  time: 0.4837  data: 0.0287  max mem: 10649\n",
            "Epoch: [1]  [100/429]  eta: 0:02:40  lr: 0.005000  loss: 0.2454 (0.2637)  loss_classifier: 0.0743 (0.0903)  loss_box_reg: 0.0935 (0.1009)  loss_objectness: 0.0532 (0.0517)  loss_rpn_box_reg: 0.0203 (0.0208)  time: 0.4874  data: 0.0289  max mem: 10649\n",
            "Epoch: [1]  [110/429]  eta: 0:02:35  lr: 0.005000  loss: 0.2416 (0.2610)  loss_classifier: 0.0742 (0.0889)  loss_box_reg: 0.0872 (0.1004)  loss_objectness: 0.0458 (0.0513)  loss_rpn_box_reg: 0.0177 (0.0205)  time: 0.4858  data: 0.0266  max mem: 10649\n",
            "Epoch: [1]  [120/429]  eta: 0:02:30  lr: 0.005000  loss: 0.2355 (0.2593)  loss_classifier: 0.0804 (0.0890)  loss_box_reg: 0.1010 (0.1004)  loss_objectness: 0.0352 (0.0500)  loss_rpn_box_reg: 0.0112 (0.0200)  time: 0.4839  data: 0.0267  max mem: 10649\n",
            "Epoch: [1]  [130/429]  eta: 0:02:25  lr: 0.005000  loss: 0.2366 (0.2591)  loss_classifier: 0.0891 (0.0890)  loss_box_reg: 0.1046 (0.1004)  loss_objectness: 0.0281 (0.0497)  loss_rpn_box_reg: 0.0101 (0.0200)  time: 0.4826  data: 0.0269  max mem: 10649\n",
            "Epoch: [1]  [140/429]  eta: 0:02:20  lr: 0.005000  loss: 0.2337 (0.2576)  loss_classifier: 0.0843 (0.0881)  loss_box_reg: 0.0935 (0.0994)  loss_objectness: 0.0389 (0.0497)  loss_rpn_box_reg: 0.0121 (0.0203)  time: 0.4811  data: 0.0264  max mem: 10649\n",
            "Epoch: [1]  [150/429]  eta: 0:02:15  lr: 0.005000  loss: 0.2262 (0.2558)  loss_classifier: 0.0722 (0.0872)  loss_box_reg: 0.0837 (0.0984)  loss_objectness: 0.0389 (0.0500)  loss_rpn_box_reg: 0.0121 (0.0201)  time: 0.4845  data: 0.0271  max mem: 10649\n",
            "Epoch: [1]  [160/429]  eta: 0:02:10  lr: 0.005000  loss: 0.2156 (0.2543)  loss_classifier: 0.0718 (0.0864)  loss_box_reg: 0.0862 (0.0980)  loss_objectness: 0.0359 (0.0499)  loss_rpn_box_reg: 0.0109 (0.0200)  time: 0.4859  data: 0.0272  max mem: 10649\n",
            "Epoch: [1]  [170/429]  eta: 0:02:05  lr: 0.005000  loss: 0.2378 (0.2543)  loss_classifier: 0.0797 (0.0867)  loss_box_reg: 0.0943 (0.0984)  loss_objectness: 0.0371 (0.0493)  loss_rpn_box_reg: 0.0121 (0.0199)  time: 0.4844  data: 0.0268  max mem: 10649\n",
            "Epoch: [1]  [180/429]  eta: 0:02:00  lr: 0.005000  loss: 0.2458 (0.2549)  loss_classifier: 0.0881 (0.0867)  loss_box_reg: 0.1032 (0.0984)  loss_objectness: 0.0382 (0.0493)  loss_rpn_box_reg: 0.0129 (0.0206)  time: 0.4844  data: 0.0270  max mem: 10649\n",
            "Epoch: [1]  [190/429]  eta: 0:01:55  lr: 0.005000  loss: 0.2458 (0.2551)  loss_classifier: 0.0840 (0.0863)  loss_box_reg: 0.0993 (0.0981)  loss_objectness: 0.0420 (0.0501)  loss_rpn_box_reg: 0.0211 (0.0206)  time: 0.4835  data: 0.0265  max mem: 10649\n",
            "Epoch: [1]  [200/429]  eta: 0:01:51  lr: 0.005000  loss: 0.2384 (0.2538)  loss_classifier: 0.0759 (0.0857)  loss_box_reg: 0.0925 (0.0979)  loss_objectness: 0.0423 (0.0499)  loss_rpn_box_reg: 0.0157 (0.0203)  time: 0.4836  data: 0.0264  max mem: 10649\n",
            "Epoch: [1]  [210/429]  eta: 0:01:46  lr: 0.005000  loss: 0.2251 (0.2538)  loss_classifier: 0.0792 (0.0857)  loss_box_reg: 0.0905 (0.0979)  loss_objectness: 0.0360 (0.0500)  loss_rpn_box_reg: 0.0111 (0.0202)  time: 0.4846  data: 0.0265  max mem: 10649\n",
            "Epoch: [1]  [220/429]  eta: 0:01:41  lr: 0.005000  loss: 0.2287 (0.2533)  loss_classifier: 0.0824 (0.0857)  loss_box_reg: 0.0939 (0.0978)  loss_objectness: 0.0311 (0.0497)  loss_rpn_box_reg: 0.0111 (0.0201)  time: 0.4853  data: 0.0271  max mem: 10649\n",
            "Epoch: [1]  [230/429]  eta: 0:01:36  lr: 0.005000  loss: 0.2385 (0.2544)  loss_classifier: 0.0855 (0.0858)  loss_box_reg: 0.0964 (0.0978)  loss_objectness: 0.0417 (0.0501)  loss_rpn_box_reg: 0.0151 (0.0206)  time: 0.4859  data: 0.0274  max mem: 10649\n",
            "Epoch: [1]  [240/429]  eta: 0:01:31  lr: 0.005000  loss: 0.2631 (0.2549)  loss_classifier: 0.0877 (0.0861)  loss_box_reg: 0.0964 (0.0980)  loss_objectness: 0.0439 (0.0501)  loss_rpn_box_reg: 0.0095 (0.0208)  time: 0.4876  data: 0.0283  max mem: 10649\n",
            "Epoch: [1]  [250/429]  eta: 0:01:26  lr: 0.005000  loss: 0.2530 (0.2541)  loss_classifier: 0.0838 (0.0858)  loss_box_reg: 0.0949 (0.0979)  loss_objectness: 0.0377 (0.0496)  loss_rpn_box_reg: 0.0095 (0.0208)  time: 0.4889  data: 0.0291  max mem: 10649\n",
            "Epoch: [1]  [260/429]  eta: 0:01:22  lr: 0.005000  loss: 0.2381 (0.2545)  loss_classifier: 0.0838 (0.0859)  loss_box_reg: 0.0954 (0.0980)  loss_objectness: 0.0332 (0.0498)  loss_rpn_box_reg: 0.0096 (0.0209)  time: 0.4871  data: 0.0280  max mem: 10649\n",
            "Epoch: [1]  [270/429]  eta: 0:01:17  lr: 0.005000  loss: 0.2417 (0.2557)  loss_classifier: 0.0880 (0.0863)  loss_box_reg: 0.1007 (0.0982)  loss_objectness: 0.0332 (0.0499)  loss_rpn_box_reg: 0.0110 (0.0214)  time: 0.4834  data: 0.0271  max mem: 10649\n",
            "Epoch: [1]  [280/429]  eta: 0:01:12  lr: 0.005000  loss: 0.2478 (0.2556)  loss_classifier: 0.0935 (0.0866)  loss_box_reg: 0.1014 (0.0984)  loss_objectness: 0.0362 (0.0496)  loss_rpn_box_reg: 0.0100 (0.0211)  time: 0.4803  data: 0.0266  max mem: 10649\n",
            "Epoch: [1]  [290/429]  eta: 0:01:07  lr: 0.005000  loss: 0.2510 (0.2565)  loss_classifier: 0.0899 (0.0866)  loss_box_reg: 0.0974 (0.0984)  loss_objectness: 0.0375 (0.0499)  loss_rpn_box_reg: 0.0100 (0.0217)  time: 0.4798  data: 0.0263  max mem: 10649\n",
            "Epoch: [1]  [300/429]  eta: 0:01:02  lr: 0.005000  loss: 0.2510 (0.2560)  loss_classifier: 0.0878 (0.0868)  loss_box_reg: 0.0974 (0.0984)  loss_objectness: 0.0391 (0.0494)  loss_rpn_box_reg: 0.0114 (0.0214)  time: 0.4802  data: 0.0261  max mem: 10649\n",
            "Epoch: [1]  [310/429]  eta: 0:00:57  lr: 0.005000  loss: 0.2476 (0.2559)  loss_classifier: 0.0847 (0.0868)  loss_box_reg: 0.0980 (0.0985)  loss_objectness: 0.0340 (0.0494)  loss_rpn_box_reg: 0.0103 (0.0213)  time: 0.4794  data: 0.0261  max mem: 10649\n",
            "Epoch: [1]  [320/429]  eta: 0:00:52  lr: 0.005000  loss: 0.2599 (0.2564)  loss_classifier: 0.0847 (0.0868)  loss_box_reg: 0.0939 (0.0983)  loss_objectness: 0.0438 (0.0496)  loss_rpn_box_reg: 0.0109 (0.0217)  time: 0.4793  data: 0.0262  max mem: 10649\n",
            "Epoch: [1]  [330/429]  eta: 0:00:47  lr: 0.005000  loss: 0.2559 (0.2567)  loss_classifier: 0.0857 (0.0866)  loss_box_reg: 0.0938 (0.0983)  loss_objectness: 0.0438 (0.0497)  loss_rpn_box_reg: 0.0233 (0.0221)  time: 0.4813  data: 0.0264  max mem: 10649\n",
            "Epoch: [1]  [340/429]  eta: 0:00:43  lr: 0.005000  loss: 0.2398 (0.2560)  loss_classifier: 0.0759 (0.0863)  loss_box_reg: 0.0938 (0.0981)  loss_objectness: 0.0335 (0.0495)  loss_rpn_box_reg: 0.0124 (0.0221)  time: 0.4828  data: 0.0265  max mem: 10649\n",
            "Epoch: [1]  [350/429]  eta: 0:00:38  lr: 0.005000  loss: 0.2378 (0.2555)  loss_classifier: 0.0784 (0.0863)  loss_box_reg: 0.0947 (0.0980)  loss_objectness: 0.0335 (0.0493)  loss_rpn_box_reg: 0.0116 (0.0219)  time: 0.4854  data: 0.0274  max mem: 10649\n",
            "Epoch: [1]  [360/429]  eta: 0:00:33  lr: 0.005000  loss: 0.2289 (0.2548)  loss_classifier: 0.0856 (0.0863)  loss_box_reg: 0.0947 (0.0979)  loss_objectness: 0.0310 (0.0489)  loss_rpn_box_reg: 0.0108 (0.0216)  time: 0.4852  data: 0.0276  max mem: 10649\n",
            "Epoch: [1]  [370/429]  eta: 0:00:28  lr: 0.005000  loss: 0.2361 (0.2546)  loss_classifier: 0.0867 (0.0864)  loss_box_reg: 0.0963 (0.0979)  loss_objectness: 0.0350 (0.0489)  loss_rpn_box_reg: 0.0108 (0.0215)  time: 0.4855  data: 0.0283  max mem: 10649\n",
            "Epoch: [1]  [380/429]  eta: 0:00:23  lr: 0.005000  loss: 0.2361 (0.2541)  loss_classifier: 0.0867 (0.0864)  loss_box_reg: 0.0974 (0.0979)  loss_objectness: 0.0324 (0.0486)  loss_rpn_box_reg: 0.0095 (0.0212)  time: 0.4851  data: 0.0282  max mem: 10649\n",
            "Epoch: [1]  [390/429]  eta: 0:00:18  lr: 0.005000  loss: 0.2249 (0.2532)  loss_classifier: 0.0854 (0.0864)  loss_box_reg: 0.0973 (0.0979)  loss_objectness: 0.0277 (0.0481)  loss_rpn_box_reg: 0.0083 (0.0209)  time: 0.4841  data: 0.0277  max mem: 10649\n",
            "Epoch: [1]  [400/429]  eta: 0:00:14  lr: 0.005000  loss: 0.2276 (0.2529)  loss_classifier: 0.0861 (0.0864)  loss_box_reg: 0.0931 (0.0979)  loss_objectness: 0.0275 (0.0480)  loss_rpn_box_reg: 0.0094 (0.0206)  time: 0.4862  data: 0.0292  max mem: 10649\n",
            "Epoch: [1]  [410/429]  eta: 0:00:09  lr: 0.005000  loss: 0.2276 (0.2521)  loss_classifier: 0.0865 (0.0864)  loss_box_reg: 0.0929 (0.0978)  loss_objectness: 0.0296 (0.0475)  loss_rpn_box_reg: 0.0101 (0.0204)  time: 0.4844  data: 0.0289  max mem: 10649\n",
            "Epoch: [1]  [420/429]  eta: 0:00:04  lr: 0.005000  loss: 0.2225 (0.2518)  loss_classifier: 0.0827 (0.0863)  loss_box_reg: 0.0920 (0.0978)  loss_objectness: 0.0319 (0.0474)  loss_rpn_box_reg: 0.0099 (0.0203)  time: 0.4843  data: 0.0291  max mem: 10649\n",
            "Epoch: [1]  [428/429]  eta: 0:00:00  lr: 0.005000  loss: 0.2225 (0.2518)  loss_classifier: 0.0797 (0.0863)  loss_box_reg: 0.0944 (0.0977)  loss_objectness: 0.0344 (0.0474)  loss_rpn_box_reg: 0.0100 (0.0204)  time: 0.4652  data: 0.0275  max mem: 10649\n",
            "Epoch: [1] Total time: 0:03:27 (0.4839 s / it)\n",
            "Train results for epoch 1:\n",
            "creating index...\n",
            "index created!\n",
            "Test:  [  0/429]  eta: 0:03:38  model_time: 0.2655 (0.2655)  evaluator_time: 0.0240 (0.0240)  time: 0.5086  data: 0.2164  max mem: 10649\n",
            "Test:  [100/429]  eta: 0:01:27  model_time: 0.2142 (0.2155)  evaluator_time: 0.0172 (0.0173)  time: 0.2606  data: 0.0263  max mem: 10649\n",
            "Test:  [200/429]  eta: 0:01:00  model_time: 0.2150 (0.2153)  evaluator_time: 0.0168 (0.0171)  time: 0.2603  data: 0.0254  max mem: 10649\n",
            "Test:  [300/429]  eta: 0:00:33  model_time: 0.2139 (0.2150)  evaluator_time: 0.0163 (0.0170)  time: 0.2583  data: 0.0252  max mem: 10649\n",
            "Test:  [400/429]  eta: 0:00:07  model_time: 0.2140 (0.2152)  evaluator_time: 0.0163 (0.0170)  time: 0.2604  data: 0.0266  max mem: 10649\n",
            "Test:  [428/429]  eta: 0:00:00  model_time: 0.2146 (0.2148)  evaluator_time: 0.0157 (0.0169)  time: 0.2490  data: 0.0245  max mem: 10649\n",
            "Test: Total time: 0:01:52 (0.2621 s / it)\n",
            "Averaged stats: model_time: 0.2146 (0.2148)  evaluator_time: 0.0157 (0.0169)\n",
            "Accumulating evaluation results...\n",
            "DONE (t=2.10s).\n",
            "IoU metric: bbox\n",
            " Average Precision  (AP) @[ IoU=0.50:0.95 | area=   all | maxDets=100 ] = 0.171\n",
            " Average Precision  (AP) @[ IoU=0.50      | area=   all | maxDets=100 ] = 0.379\n",
            " Average Precision  (AP) @[ IoU=0.75      | area=   all | maxDets=100 ] = 0.136\n",
            " Average Precision  (AP) @[ IoU=0.50:0.95 | area= small | maxDets=100 ] = 0.044\n",
            " Average Precision  (AP) @[ IoU=0.50:0.95 | area=medium | maxDets=100 ] = 0.232\n",
            " Average Precision  (AP) @[ IoU=0.50:0.95 | area= large | maxDets=100 ] = 0.175\n",
            " Average Recall     (AR) @[ IoU=0.50:0.95 | area=   all | maxDets=  1 ] = 0.213\n",
            " Average Recall     (AR) @[ IoU=0.50:0.95 | area=   all | maxDets= 10 ] = 0.261\n",
            " Average Recall     (AR) @[ IoU=0.50:0.95 | area=   all | maxDets=100 ] = 0.261\n",
            " Average Recall     (AR) @[ IoU=0.50:0.95 | area= small | maxDets=100 ] = 0.130\n",
            " Average Recall     (AR) @[ IoU=0.50:0.95 | area=medium | maxDets=100 ] = 0.330\n",
            " Average Recall     (AR) @[ IoU=0.50:0.95 | area= large | maxDets=100 ] = 0.498\n",
            "Validation results for epoch 1:\n",
            "creating index...\n",
            "index created!\n",
            "Test:  [   0/1963]  eta: 0:05:10  model_time: 0.0413 (0.0413)  evaluator_time: 0.0051 (0.0051)  time: 0.1582  data: 0.1109  max mem: 10649\n",
            "Test:  [ 100/1963]  eta: 0:00:53  model_time: 0.0225 (0.0233)  evaluator_time: 0.0017 (0.0018)  time: 0.0276  data: 0.0021  max mem: 10649\n",
            "Test:  [ 200/1963]  eta: 0:00:49  model_time: 0.0229 (0.0234)  evaluator_time: 0.0018 (0.0018)  time: 0.0280  data: 0.0023  max mem: 10649\n",
            "Test:  [ 300/1963]  eta: 0:00:46  model_time: 0.0224 (0.0232)  evaluator_time: 0.0020 (0.0018)  time: 0.0272  data: 0.0022  max mem: 10649\n",
            "Test:  [ 400/1963]  eta: 0:00:44  model_time: 0.0231 (0.0236)  evaluator_time: 0.0017 (0.0018)  time: 0.0278  data: 0.0022  max mem: 10649\n",
            "Test:  [ 500/1963]  eta: 0:00:41  model_time: 0.0226 (0.0236)  evaluator_time: 0.0019 (0.0018)  time: 0.0277  data: 0.0021  max mem: 10649\n",
            "Test:  [ 600/1963]  eta: 0:00:38  model_time: 0.0229 (0.0235)  evaluator_time: 0.0020 (0.0018)  time: 0.0277  data: 0.0024  max mem: 10649\n",
            "Test:  [ 700/1963]  eta: 0:00:35  model_time: 0.0225 (0.0234)  evaluator_time: 0.0019 (0.0018)  time: 0.0271  data: 0.0021  max mem: 10649\n",
            "Test:  [ 800/1963]  eta: 0:00:32  model_time: 0.0226 (0.0234)  evaluator_time: 0.0018 (0.0018)  time: 0.0270  data: 0.0021  max mem: 10649\n",
            "Test:  [ 900/1963]  eta: 0:00:29  model_time: 0.0224 (0.0233)  evaluator_time: 0.0017 (0.0018)  time: 0.0264  data: 0.0021  max mem: 10649\n",
            "Test:  [1000/1963]  eta: 0:00:26  model_time: 0.0227 (0.0232)  evaluator_time: 0.0018 (0.0018)  time: 0.0274  data: 0.0022  max mem: 10649\n",
            "Test:  [1100/1963]  eta: 0:00:23  model_time: 0.0227 (0.0232)  evaluator_time: 0.0018 (0.0018)  time: 0.0271  data: 0.0022  max mem: 10649\n",
            "Test:  [1200/1963]  eta: 0:00:20  model_time: 0.0229 (0.0232)  evaluator_time: 0.0019 (0.0018)  time: 0.0272  data: 0.0022  max mem: 10649\n",
            "Test:  [1300/1963]  eta: 0:00:18  model_time: 0.0226 (0.0231)  evaluator_time: 0.0019 (0.0018)  time: 0.0273  data: 0.0022  max mem: 10649\n",
            "Test:  [1400/1963]  eta: 0:00:15  model_time: 0.0221 (0.0231)  evaluator_time: 0.0017 (0.0018)  time: 0.0262  data: 0.0020  max mem: 10649\n",
            "Test:  [1500/1963]  eta: 0:00:12  model_time: 0.0223 (0.0231)  evaluator_time: 0.0017 (0.0018)  time: 0.0264  data: 0.0021  max mem: 10649\n",
            "Test:  [1600/1963]  eta: 0:00:09  model_time: 0.0228 (0.0231)  evaluator_time: 0.0018 (0.0018)  time: 0.0275  data: 0.0023  max mem: 10649\n",
            "Test:  [1700/1963]  eta: 0:00:07  model_time: 0.0226 (0.0231)  evaluator_time: 0.0019 (0.0018)  time: 0.0274  data: 0.0022  max mem: 10649\n",
            "Test:  [1800/1963]  eta: 0:00:04  model_time: 0.0222 (0.0230)  evaluator_time: 0.0018 (0.0018)  time: 0.0266  data: 0.0022  max mem: 10649\n",
            "Test:  [1900/1963]  eta: 0:00:01  model_time: 0.0224 (0.0230)  evaluator_time: 0.0017 (0.0018)  time: 0.0271  data: 0.0026  max mem: 10649\n",
            "Test:  [1962/1963]  eta: 0:00:00  model_time: 0.0224 (0.0230)  evaluator_time: 0.0017 (0.0018)  time: 0.0268  data: 0.0022  max mem: 10649\n",
            "Test: Total time: 0:00:53 (0.0274 s / it)\n",
            "Averaged stats: model_time: 0.0224 (0.0230)  evaluator_time: 0.0017 (0.0018)\n",
            "Accumulating evaluation results...\n",
            "DONE (t=0.61s).\n",
            "IoU metric: bbox\n",
            " Average Precision  (AP) @[ IoU=0.50:0.95 | area=   all | maxDets=100 ] = 0.164\n",
            " Average Precision  (AP) @[ IoU=0.50      | area=   all | maxDets=100 ] = 0.369\n",
            " Average Precision  (AP) @[ IoU=0.75      | area=   all | maxDets=100 ] = 0.125\n",
            " Average Precision  (AP) @[ IoU=0.50:0.95 | area= small | maxDets=100 ] = 0.038\n",
            " Average Precision  (AP) @[ IoU=0.50:0.95 | area=medium | maxDets=100 ] = 0.229\n",
            " Average Precision  (AP) @[ IoU=0.50:0.95 | area= large | maxDets=100 ] = 0.212\n",
            " Average Recall     (AR) @[ IoU=0.50:0.95 | area=   all | maxDets=  1 ] = 0.203\n",
            " Average Recall     (AR) @[ IoU=0.50:0.95 | area=   all | maxDets= 10 ] = 0.250\n",
            " Average Recall     (AR) @[ IoU=0.50:0.95 | area=   all | maxDets=100 ] = 0.250\n",
            " Average Recall     (AR) @[ IoU=0.50:0.95 | area= small | maxDets=100 ] = 0.110\n",
            " Average Recall     (AR) @[ IoU=0.50:0.95 | area=medium | maxDets=100 ] = 0.327\n",
            " Average Recall     (AR) @[ IoU=0.50:0.95 | area= large | maxDets=100 ] = 0.553\n",
            "Training completed.\n"
          ]
        }
      ],
      "source": [
        "model.train(train_data_loader = train_data_loader, val_data_loader=val_data_loader)"
      ]
    }
  ],
  "metadata": {
    "accelerator": "GPU",
    "colab": {
      "gpuType": "V100",
      "provenance": []
    },
    "kernelspec": {
      "display_name": "Python 3",
      "name": "python3"
    },
    "language_info": {
      "codemirror_mode": {
        "name": "ipython",
        "version": 3
      },
      "file_extension": ".py",
      "mimetype": "text/x-python",
      "name": "python",
      "nbconvert_exporter": "python",
      "pygments_lexer": "ipython3",
      "version": "3.12.2"
    }
  },
  "nbformat": 4,
  "nbformat_minor": 0
}
